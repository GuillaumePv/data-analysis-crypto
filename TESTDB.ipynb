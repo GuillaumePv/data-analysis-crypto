{
 "cells": [
  {
   "cell_type": "code",
   "execution_count": 33,
   "metadata": {},
   "outputs": [
    {
     "data": {
      "text/plain": [
       "5"
      ]
     },
     "execution_count": 33,
     "metadata": {},
     "output_type": "execute_result"
    }
   ],
   "source": [
    "import pandas as pd\n",
    "\n",
    "df = pd.read_json(\"data/raw/BTC_raw.json\", lines = True,  orient='records')\n",
    "\n",
    "dff = df.loc[(df['created_at'] >= '2017-08-17')\n",
    "                     & (df['created_at'] < '2017-08-18')]\n",
    "len(dff)\n"
   ]
  },
  {
   "cell_type": "code",
   "execution_count": 34,
   "metadata": {},
   "outputs": [
    {
     "data": {
      "text/html": [
       "<div>\n",
       "<style scoped>\n",
       "    .dataframe tbody tr th:only-of-type {\n",
       "        vertical-align: middle;\n",
       "    }\n",
       "\n",
       "    .dataframe tbody tr th {\n",
       "        vertical-align: top;\n",
       "    }\n",
       "\n",
       "    .dataframe thead th {\n",
       "        text-align: right;\n",
       "    }\n",
       "</style>\n",
       "<table border=\"1\" class=\"dataframe\">\n",
       "  <thead>\n",
       "    <tr style=\"text-align: right;\">\n",
       "      <th></th>\n",
       "      <th>Unnamed: 0</th>\n",
       "      <th>date</th>\n",
       "      <th>tweet_count</th>\n",
       "      <th>daily_sent</th>\n",
       "      <th>elonmusk</th>\n",
       "      <th>michael_saylor</th>\n",
       "      <th>binance</th>\n",
       "      <th>peterlbrandt</th>\n",
       "      <th>apompliano</th>\n",
       "      <th>cashapp</th>\n",
       "      <th>investingcom</th>\n",
       "      <th>coinmarketcap</th>\n",
       "      <th>raoulgmi</th>\n",
       "      <th>charliebilello</th>\n",
       "    </tr>\n",
       "  </thead>\n",
       "  <tbody>\n",
       "    <tr>\n",
       "      <th>1334</th>\n",
       "      <td>2017-08-17</td>\n",
       "      <td>2017-08-17</td>\n",
       "      <td>5.0</td>\n",
       "      <td>0.09582</td>\n",
       "      <td>0.0</td>\n",
       "      <td>0.0</td>\n",
       "      <td>0.0</td>\n",
       "      <td>0.0</td>\n",
       "      <td>0.0</td>\n",
       "      <td>0.0</td>\n",
       "      <td>0.0</td>\n",
       "      <td>0.0</td>\n",
       "      <td>0.0</td>\n",
       "      <td>0.0</td>\n",
       "    </tr>\n",
       "  </tbody>\n",
       "</table>\n",
       "</div>"
      ],
      "text/plain": [
       "      Unnamed: 0        date  tweet_count  daily_sent  elonmusk  \\\n",
       "1334  2017-08-17  2017-08-17          5.0     0.09582       0.0   \n",
       "\n",
       "      michael_saylor  binance  peterlbrandt  apompliano  cashapp  \\\n",
       "1334             0.0      0.0           0.0         0.0      0.0   \n",
       "\n",
       "      investingcom  coinmarketcap  raoulgmi  charliebilello  \n",
       "1334           0.0            0.0       0.0             0.0  "
      ]
     },
     "execution_count": 34,
     "metadata": {},
     "output_type": "execute_result"
    }
   ],
   "source": [
    "dfp = pd.read_csv(\"data/processed/BTC_clean.csv\")\n",
    "dfp = dfp.where(dfp.date == '2017-08-17')\n",
    "dfp.dropna()"
   ]
  }
 ],
 "metadata": {
  "kernelspec": {
   "display_name": "Python 3",
   "language": "python",
   "name": "python3"
  },
  "language_info": {
   "codemirror_mode": {
    "name": "ipython",
    "version": 3
   },
   "file_extension": ".py",
   "mimetype": "text/x-python",
   "name": "python",
   "nbconvert_exporter": "python",
   "pygments_lexer": "ipython3",
   "version": "3.8.5"
  }
 },
 "nbformat": 4,
 "nbformat_minor": 4
}
