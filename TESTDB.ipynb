{
 "cells": [
  {
   "cell_type": "code",
   "execution_count": 14,
   "metadata": {},
   "outputs": [
    {
     "name": "stdout",
     "output_type": "stream",
     "text": [
      "2291\n",
      "     bitcoin_unscaled  bitcoin_monthly       Close        date\n",
      "0                  57              8.0    0.000000  2014-01-02\n",
      "1                  55              8.0    0.000000  2014-01-03\n",
      "2                  59              8.0    0.000000  2014-01-06\n",
      "3                  53              8.0    0.000000  2014-01-07\n",
      "4                  65              8.0    0.000000  2014-01-08\n",
      "..                ...              ...         ...         ...\n",
      "195                54              3.0  362.299011  2014-10-10\n",
      "196                43              3.0  400.869995  2014-10-13\n",
      "197                69              3.0  394.773010  2014-10-14\n",
      "198                99              3.0  382.556000  2014-10-15\n",
      "199                64              3.0  383.757996  2014-10-16\n",
      "\n",
      "[200 rows x 4 columns]\n"
     ]
    }
   ],
   "source": [
    "import pandas as pd\n",
    "\n",
    "df = pd.read_csv(\"data/processed/BTC_finaldb.csv\")\n",
    "\n",
    "\n",
    "print(len(df))\n",
    "df.iloc[:, 8:].tail(10)\n",
    "print(df[['bitcoin_unscaled', 'bitcoin_monthly', 'Close',  'date']].head(200))\n"
   ]
  },
  {
   "cell_type": "code",
   "execution_count": null,
   "metadata": {},
   "outputs": [],
   "source": []
  },
  {
   "cell_type": "code",
   "execution_count": null,
   "metadata": {},
   "outputs": [],
   "source": []
  },
  {
   "cell_type": "code",
   "execution_count": null,
   "metadata": {},
   "outputs": [],
   "source": []
  },
  {
   "cell_type": "code",
   "execution_count": null,
   "metadata": {},
   "outputs": [],
   "source": []
  },
  {
   "cell_type": "code",
   "execution_count": null,
   "metadata": {},
   "outputs": [],
   "source": []
  },
  {
   "cell_type": "code",
   "execution_count": null,
   "metadata": {},
   "outputs": [],
   "source": []
  },
  {
   "cell_type": "code",
   "execution_count": null,
   "metadata": {},
   "outputs": [],
   "source": []
  },
  {
   "cell_type": "code",
   "execution_count": null,
   "metadata": {},
   "outputs": [],
   "source": []
  },
  {
   "cell_type": "code",
   "execution_count": null,
   "metadata": {},
   "outputs": [],
   "source": []
  },
  {
   "cell_type": "code",
   "execution_count": null,
   "metadata": {},
   "outputs": [],
   "source": []
  },
  {
   "cell_type": "code",
   "execution_count": null,
   "metadata": {},
   "outputs": [],
   "source": []
  },
  {
   "cell_type": "code",
   "execution_count": null,
   "metadata": {},
   "outputs": [],
   "source": []
  },
  {
   "cell_type": "code",
   "execution_count": null,
   "metadata": {},
   "outputs": [],
   "source": []
  },
  {
   "cell_type": "code",
   "execution_count": 34,
   "metadata": {},
   "outputs": [
    {
     "data": {
      "text/html": [
       "<div>\n",
       "<style scoped>\n",
       "    .dataframe tbody tr th:only-of-type {\n",
       "        vertical-align: middle;\n",
       "    }\n",
       "\n",
       "    .dataframe tbody tr th {\n",
       "        vertical-align: top;\n",
       "    }\n",
       "\n",
       "    .dataframe thead th {\n",
       "        text-align: right;\n",
       "    }\n",
       "</style>\n",
       "<table border=\"1\" class=\"dataframe\">\n",
       "  <thead>\n",
       "    <tr style=\"text-align: right;\">\n",
       "      <th></th>\n",
       "      <th>Unnamed: 0</th>\n",
       "      <th>date</th>\n",
       "      <th>tweet_count</th>\n",
       "      <th>daily_sent</th>\n",
       "      <th>elonmusk</th>\n",
       "      <th>michael_saylor</th>\n",
       "      <th>binance</th>\n",
       "      <th>peterlbrandt</th>\n",
       "      <th>apompliano</th>\n",
       "      <th>cashapp</th>\n",
       "      <th>investingcom</th>\n",
       "      <th>coinmarketcap</th>\n",
       "      <th>raoulgmi</th>\n",
       "      <th>charliebilello</th>\n",
       "    </tr>\n",
       "  </thead>\n",
       "  <tbody>\n",
       "    <tr>\n",
       "      <th>1334</th>\n",
       "      <td>2017-08-17</td>\n",
       "      <td>2017-08-17</td>\n",
       "      <td>5.0</td>\n",
       "      <td>0.09582</td>\n",
       "      <td>0.0</td>\n",
       "      <td>0.0</td>\n",
       "      <td>0.0</td>\n",
       "      <td>0.0</td>\n",
       "      <td>0.0</td>\n",
       "      <td>0.0</td>\n",
       "      <td>0.0</td>\n",
       "      <td>0.0</td>\n",
       "      <td>0.0</td>\n",
       "      <td>0.0</td>\n",
       "    </tr>\n",
       "  </tbody>\n",
       "</table>\n",
       "</div>"
      ],
      "text/plain": [
       "      Unnamed: 0        date  tweet_count  daily_sent  elonmusk  \\\n",
       "1334  2017-08-17  2017-08-17          5.0     0.09582       0.0   \n",
       "\n",
       "      michael_saylor  binance  peterlbrandt  apompliano  cashapp  \\\n",
       "1334             0.0      0.0           0.0         0.0      0.0   \n",
       "\n",
       "      investingcom  coinmarketcap  raoulgmi  charliebilello  \n",
       "1334           0.0            0.0       0.0             0.0  "
      ]
     },
     "execution_count": 34,
     "metadata": {},
     "output_type": "execute_result"
    }
   ],
   "source": [
    "dfp = pd.read_csv(\"data/processed/BTC_clean.csv\")\n",
    "dfp = dfp.where(dfp.date == '2017-08-17')\n",
    "dfp.dropna()"
   ]
  }
 ],
 "metadata": {
  "kernelspec": {
   "display_name": "Python 3",
   "language": "python",
   "name": "python3"
  },
  "language_info": {
   "codemirror_mode": {
    "name": "ipython",
    "version": 3
   },
   "file_extension": ".py",
   "mimetype": "text/x-python",
   "name": "python",
   "nbconvert_exporter": "python",
   "pygments_lexer": "ipython3",
   "version": "3.8.5"
  }
 },
 "nbformat": 4,
 "nbformat_minor": 4
}
