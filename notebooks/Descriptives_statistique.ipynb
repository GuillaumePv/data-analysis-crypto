{
 "metadata": {
  "language_info": {
   "codemirror_mode": {
    "name": "ipython",
    "version": 3
   },
   "file_extension": ".py",
   "mimetype": "text/x-python",
   "name": "python",
   "nbconvert_exporter": "python",
   "pygments_lexer": "ipython3",
   "version": "3.8.1"
  },
  "orig_nbformat": 2,
  "kernelspec": {
   "name": "pythonjvsc74a57bd0a1b7e9cbb2ae3d7288e828adb7e9dab3486b7537996569db2aea78be3e8b32e7",
   "display_name": "Python 3.8.1  ('venv': venv)"
  },
  "metadata": {
   "interpreter": {
    "hash": "a1b7e9cbb2ae3d7288e828adb7e9dab3486b7537996569db2aea78be3e8b32e7"
   }
  }
 },
 "nbformat": 4,
 "nbformat_minor": 2,
 "cells": [
  {
   "cell_type": "code",
   "execution_count": 1,
   "metadata": {},
   "outputs": [],
   "source": [
    "import matplotlib.pyplot as plt\n",
    "import numpy as np\n",
    "import pandas as pd\n",
    "import seaborn as sns\n",
    "import sys\n",
    "sys.path.append(\"..\")\n",
    "from data import Data\n",
    "from NN_models import RNN"
   ]
  },
  {
   "cell_type": "code",
   "execution_count": 2,
   "metadata": {},
   "outputs": [],
   "source": [
    "data = Data(\"BTC\")\n",
    "data.load_data()\n",
    "#choose for our estimation\n",
    "data.create_RNN_data(reg='return',LAG=10)"
   ]
  },
  {
   "cell_type": "code",
   "execution_count": 3,
   "metadata": {},
   "outputs": [
    {
     "output_type": "execute_result",
     "data": {
      "text/plain": [
       "      High      Low    Close       Volume  QuoteAssetVolume  NumberofTrade  \\\n",
       "0  3976.99  3850.05  3882.35   526.727987      2.061196e+06           7971   \n",
       "1  4249.94  3872.81  4193.00   628.170966      2.554630e+06           8373   \n",
       "2  4300.00  4101.00  4174.50   849.785325      3.553179e+06          11426   \n",
       "3  4263.86  3952.01  4174.69  1602.309565      6.571746e+06          14834   \n",
       "4  4380.00  4138.10  4378.51   720.353183      3.088354e+06           9324   \n",
       "5  4406.52  4240.04  4378.48   726.963685      3.137144e+06           9816   \n",
       "6  4561.63  4360.00  4380.00   655.756974      2.905283e+06           8185   \n",
       "7  4467.33  4180.80  4310.00  1082.323563      4.627423e+06          12379   \n",
       "8  4373.00  4142.00  4208.59   868.465101      3.676415e+06          11006   \n",
       "9  4355.00  4110.00  4292.43   779.138638      3.295533e+06           9158   \n",
       "\n",
       "   TakerbuybaseV  TakerbuyquoteV        date  tweet_count  ...    RSI_10  \\\n",
       "0     225.570283    8.839250e+05  2017-09-26          4.0  ...  0.517851   \n",
       "1     348.083641    1.418522e+06  2017-09-27          6.0  ...  0.695859   \n",
       "2     364.517452    1.525467e+06  2017-09-28          5.0  ...  0.719106   \n",
       "3     660.408235    2.706154e+06  2017-09-29          5.0  ...  0.562665   \n",
       "4     292.966693    1.258540e+06  2017-09-30          6.0  ...  0.637748   \n",
       "5     291.975904    1.263466e+06  2017-10-01          5.0  ...  0.654312   \n",
       "6     289.541406    1.286787e+06  2017-10-02          3.0  ...  0.739469   \n",
       "7     492.735181    2.107462e+06  2017-10-03          4.0  ...  0.548631   \n",
       "8     292.928777    1.237552e+06  2017-10-04          5.0  ...  0.513557   \n",
       "9     351.042019    1.483037e+06  2017-10-05          1.0  ...  0.482466   \n",
       "\n",
       "    MACD_5_10  MACDsign_5_10  MACDdiff_5_10  Mass Index    vix    gvz  \\\n",
       "0   -2.530602     -54.663242      52.132641   26.109484  10.17  13.32   \n",
       "1   54.983456     -32.719995      87.703450   25.757318   9.87  12.99   \n",
       "2   80.219958     -10.120545      90.340503   25.387200   9.55  11.75   \n",
       "3   89.152264       9.742074      79.410190   25.010401   9.51  11.77   \n",
       "4  119.498628      31.700511      87.798117   24.482740   9.51  11.77   \n",
       "5  128.804279      51.126308      77.677972   24.092573   9.51  11.77   \n",
       "6  126.304034      66.164976      60.139058   23.798872   9.45  11.72   \n",
       "7  106.680238      74.269375      32.410862   23.484186   9.51  11.38   \n",
       "8   74.146713      74.244840      -0.098127   23.304894   9.63  11.41   \n",
       "9   64.609774      72.317621      -7.707847   23.146156   9.19  11.40   \n",
       "\n",
       "   Close_std  Close_ret_t+1  pump_5  \n",
       "0  -0.689424       0.076976       1  \n",
       "1  -0.665828      -0.004422       0  \n",
       "2  -0.667233       0.000046       0  \n",
       "3  -0.667219       0.047668       0  \n",
       "4  -0.651737      -0.000007       0  \n",
       "5  -0.651740       0.000347       0  \n",
       "6  -0.651624      -0.016111       0  \n",
       "7  -0.656941      -0.023810       0  \n",
       "8  -0.664644       0.019725       0  \n",
       "9  -0.658276       0.017681       0  \n",
       "\n",
       "[10 rows x 33 columns]"
      ],
      "text/html": "<div>\n<style scoped>\n    .dataframe tbody tr th:only-of-type {\n        vertical-align: middle;\n    }\n\n    .dataframe tbody tr th {\n        vertical-align: top;\n    }\n\n    .dataframe thead th {\n        text-align: right;\n    }\n</style>\n<table border=\"1\" class=\"dataframe\">\n  <thead>\n    <tr style=\"text-align: right;\">\n      <th></th>\n      <th>High</th>\n      <th>Low</th>\n      <th>Close</th>\n      <th>Volume</th>\n      <th>QuoteAssetVolume</th>\n      <th>NumberofTrade</th>\n      <th>TakerbuybaseV</th>\n      <th>TakerbuyquoteV</th>\n      <th>date</th>\n      <th>tweet_count</th>\n      <th>...</th>\n      <th>RSI_10</th>\n      <th>MACD_5_10</th>\n      <th>MACDsign_5_10</th>\n      <th>MACDdiff_5_10</th>\n      <th>Mass Index</th>\n      <th>vix</th>\n      <th>gvz</th>\n      <th>Close_std</th>\n      <th>Close_ret_t+1</th>\n      <th>pump_5</th>\n    </tr>\n  </thead>\n  <tbody>\n    <tr>\n      <th>0</th>\n      <td>3976.99</td>\n      <td>3850.05</td>\n      <td>3882.35</td>\n      <td>526.727987</td>\n      <td>2.061196e+06</td>\n      <td>7971</td>\n      <td>225.570283</td>\n      <td>8.839250e+05</td>\n      <td>2017-09-26</td>\n      <td>4.0</td>\n      <td>...</td>\n      <td>0.517851</td>\n      <td>-2.530602</td>\n      <td>-54.663242</td>\n      <td>52.132641</td>\n      <td>26.109484</td>\n      <td>10.17</td>\n      <td>13.32</td>\n      <td>-0.689424</td>\n      <td>0.076976</td>\n      <td>1</td>\n    </tr>\n    <tr>\n      <th>1</th>\n      <td>4249.94</td>\n      <td>3872.81</td>\n      <td>4193.00</td>\n      <td>628.170966</td>\n      <td>2.554630e+06</td>\n      <td>8373</td>\n      <td>348.083641</td>\n      <td>1.418522e+06</td>\n      <td>2017-09-27</td>\n      <td>6.0</td>\n      <td>...</td>\n      <td>0.695859</td>\n      <td>54.983456</td>\n      <td>-32.719995</td>\n      <td>87.703450</td>\n      <td>25.757318</td>\n      <td>9.87</td>\n      <td>12.99</td>\n      <td>-0.665828</td>\n      <td>-0.004422</td>\n      <td>0</td>\n    </tr>\n    <tr>\n      <th>2</th>\n      <td>4300.00</td>\n      <td>4101.00</td>\n      <td>4174.50</td>\n      <td>849.785325</td>\n      <td>3.553179e+06</td>\n      <td>11426</td>\n      <td>364.517452</td>\n      <td>1.525467e+06</td>\n      <td>2017-09-28</td>\n      <td>5.0</td>\n      <td>...</td>\n      <td>0.719106</td>\n      <td>80.219958</td>\n      <td>-10.120545</td>\n      <td>90.340503</td>\n      <td>25.387200</td>\n      <td>9.55</td>\n      <td>11.75</td>\n      <td>-0.667233</td>\n      <td>0.000046</td>\n      <td>0</td>\n    </tr>\n    <tr>\n      <th>3</th>\n      <td>4263.86</td>\n      <td>3952.01</td>\n      <td>4174.69</td>\n      <td>1602.309565</td>\n      <td>6.571746e+06</td>\n      <td>14834</td>\n      <td>660.408235</td>\n      <td>2.706154e+06</td>\n      <td>2017-09-29</td>\n      <td>5.0</td>\n      <td>...</td>\n      <td>0.562665</td>\n      <td>89.152264</td>\n      <td>9.742074</td>\n      <td>79.410190</td>\n      <td>25.010401</td>\n      <td>9.51</td>\n      <td>11.77</td>\n      <td>-0.667219</td>\n      <td>0.047668</td>\n      <td>0</td>\n    </tr>\n    <tr>\n      <th>4</th>\n      <td>4380.00</td>\n      <td>4138.10</td>\n      <td>4378.51</td>\n      <td>720.353183</td>\n      <td>3.088354e+06</td>\n      <td>9324</td>\n      <td>292.966693</td>\n      <td>1.258540e+06</td>\n      <td>2017-09-30</td>\n      <td>6.0</td>\n      <td>...</td>\n      <td>0.637748</td>\n      <td>119.498628</td>\n      <td>31.700511</td>\n      <td>87.798117</td>\n      <td>24.482740</td>\n      <td>9.51</td>\n      <td>11.77</td>\n      <td>-0.651737</td>\n      <td>-0.000007</td>\n      <td>0</td>\n    </tr>\n    <tr>\n      <th>5</th>\n      <td>4406.52</td>\n      <td>4240.04</td>\n      <td>4378.48</td>\n      <td>726.963685</td>\n      <td>3.137144e+06</td>\n      <td>9816</td>\n      <td>291.975904</td>\n      <td>1.263466e+06</td>\n      <td>2017-10-01</td>\n      <td>5.0</td>\n      <td>...</td>\n      <td>0.654312</td>\n      <td>128.804279</td>\n      <td>51.126308</td>\n      <td>77.677972</td>\n      <td>24.092573</td>\n      <td>9.51</td>\n      <td>11.77</td>\n      <td>-0.651740</td>\n      <td>0.000347</td>\n      <td>0</td>\n    </tr>\n    <tr>\n      <th>6</th>\n      <td>4561.63</td>\n      <td>4360.00</td>\n      <td>4380.00</td>\n      <td>655.756974</td>\n      <td>2.905283e+06</td>\n      <td>8185</td>\n      <td>289.541406</td>\n      <td>1.286787e+06</td>\n      <td>2017-10-02</td>\n      <td>3.0</td>\n      <td>...</td>\n      <td>0.739469</td>\n      <td>126.304034</td>\n      <td>66.164976</td>\n      <td>60.139058</td>\n      <td>23.798872</td>\n      <td>9.45</td>\n      <td>11.72</td>\n      <td>-0.651624</td>\n      <td>-0.016111</td>\n      <td>0</td>\n    </tr>\n    <tr>\n      <th>7</th>\n      <td>4467.33</td>\n      <td>4180.80</td>\n      <td>4310.00</td>\n      <td>1082.323563</td>\n      <td>4.627423e+06</td>\n      <td>12379</td>\n      <td>492.735181</td>\n      <td>2.107462e+06</td>\n      <td>2017-10-03</td>\n      <td>4.0</td>\n      <td>...</td>\n      <td>0.548631</td>\n      <td>106.680238</td>\n      <td>74.269375</td>\n      <td>32.410862</td>\n      <td>23.484186</td>\n      <td>9.51</td>\n      <td>11.38</td>\n      <td>-0.656941</td>\n      <td>-0.023810</td>\n      <td>0</td>\n    </tr>\n    <tr>\n      <th>8</th>\n      <td>4373.00</td>\n      <td>4142.00</td>\n      <td>4208.59</td>\n      <td>868.465101</td>\n      <td>3.676415e+06</td>\n      <td>11006</td>\n      <td>292.928777</td>\n      <td>1.237552e+06</td>\n      <td>2017-10-04</td>\n      <td>5.0</td>\n      <td>...</td>\n      <td>0.513557</td>\n      <td>74.146713</td>\n      <td>74.244840</td>\n      <td>-0.098127</td>\n      <td>23.304894</td>\n      <td>9.63</td>\n      <td>11.41</td>\n      <td>-0.664644</td>\n      <td>0.019725</td>\n      <td>0</td>\n    </tr>\n    <tr>\n      <th>9</th>\n      <td>4355.00</td>\n      <td>4110.00</td>\n      <td>4292.43</td>\n      <td>779.138638</td>\n      <td>3.295533e+06</td>\n      <td>9158</td>\n      <td>351.042019</td>\n      <td>1.483037e+06</td>\n      <td>2017-10-05</td>\n      <td>1.0</td>\n      <td>...</td>\n      <td>0.482466</td>\n      <td>64.609774</td>\n      <td>72.317621</td>\n      <td>-7.707847</td>\n      <td>23.146156</td>\n      <td>9.19</td>\n      <td>11.40</td>\n      <td>-0.658276</td>\n      <td>0.017681</td>\n      <td>0</td>\n    </tr>\n  </tbody>\n</table>\n<p>10 rows × 33 columns</p>\n</div>"
     },
     "metadata": {},
     "execution_count": 3
    }
   ],
   "source": [
    "data.df.head(10)"
   ]
  },
  {
   "source": [
    "# Correlation with pump > 5%"
   ],
   "cell_type": "markdown",
   "metadata": {}
  },
  {
   "cell_type": "code",
   "execution_count": 4,
   "metadata": {},
   "outputs": [
    {
     "output_type": "execute_result",
     "data": {
      "text/plain": [
       "High                0.055327\n",
       "Low                 0.049872\n",
       "Close               0.052338\n",
       "Volume              0.058451\n",
       "QuoteAssetVolume    0.073317\n",
       "NumberofTrade       0.066020\n",
       "TakerbuybaseV       0.057386\n",
       "TakerbuyquoteV      0.073311\n",
       "tweet_count         0.113889\n",
       "daily_sent         -0.015086\n",
       "elonmusk            0.056388\n",
       "michael_saylor     -0.020622\n",
       "binance             0.049314\n",
       "investingcom        0.102593\n",
       "peterlbrandt       -0.020695\n",
       "raoulgmi           -0.026860\n",
       "coinmarketcap       0.059639\n",
       "apompliano         -0.020844\n",
       "cashapp            -0.017180\n",
       "charliebilello      0.008407\n",
       "MA_10               0.053787\n",
       "ADX_2_7             0.044139\n",
       "RSI_10              0.028696\n",
       "MACD_5_10           0.023801\n",
       "MACDsign_5_10       0.042954\n",
       "MACDdiff_5_10      -0.019581\n",
       "Mass Index          0.047492\n",
       "vix                 0.052031\n",
       "gvz                 0.046839\n",
       "Close_std           0.052338\n",
       "Close_ret_t+1       0.588834\n",
       "pump_5              1.000000\n",
       "Name: pump_5, dtype: float64"
      ]
     },
     "metadata": {},
     "execution_count": 4
    }
   ],
   "source": [
    "data.df.corr()['pump_5']"
   ]
  },
  {
   "cell_type": "code",
   "execution_count": null,
   "metadata": {},
   "outputs": [],
   "source": [
    "for columns in data.df.columns:\n",
    "    if columns != \"pump_5\" or columns != 'date':\n",
    "        fig = plt.figure(figsize=(10,5))\n",
    "        plt.scatter(data.df[\"pump_5\"],data.df[columns])\n",
    "        plt.xlabel(\"pump > 5% (1: yes / 0: no)\")\n",
    "        plt.ylabel(columns)\n",
    "        plt.grid(True)\n",
    "        plt.show()"
   ]
  },
  {
   "cell_type": "code",
   "execution_count": null,
   "metadata": {},
   "outputs": [],
   "source": []
  },
  {
   "cell_type": "code",
   "execution_count": null,
   "metadata": {},
   "outputs": [],
   "source": []
  }
 ]
}